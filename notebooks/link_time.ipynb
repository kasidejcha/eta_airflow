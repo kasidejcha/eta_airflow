{
 "cells": [
  {
   "cell_type": "code",
   "execution_count": 1,
   "id": "17d6f4da",
   "metadata": {},
   "outputs": [
    {
     "name": "stderr",
     "output_type": "stream",
     "text": [
      "WARNING: An illegal reflective access operation has occurred\n",
      "WARNING: Illegal reflective access by org.apache.spark.unsafe.Platform (file:/usr/local/spark-3.1.2-bin-hadoop3.2/jars/spark-unsafe_2.12-3.1.2.jar) to constructor java.nio.DirectByteBuffer(long,int)\n",
      "WARNING: Please consider reporting this to the maintainers of org.apache.spark.unsafe.Platform\n",
      "WARNING: Use --illegal-access=warn to enable warnings of further illegal reflective access operations\n",
      "WARNING: All illegal access operations will be denied in a future release\n",
      "22/09/29 10:25:10 WARN NativeCodeLoader: Unable to load native-hadoop library for your platform... using builtin-java classes where applicable\n",
      "Using Spark's default log4j profile: org/apache/spark/log4j-defaults.properties\n",
      "Setting default log level to \"WARN\".\n",
      "To adjust logging level use sc.setLogLevel(newLevel). For SparkR, use setLogLevel(newLevel).\n"
     ]
    }
   ],
   "source": [
    "from pyspark.sql import SparkSession\n",
    "\n",
    "# Spark session & context\n",
    "spark = (SparkSession\n",
    "         .builder\n",
    "         .master(\"local\")\n",
    "         .appName(\"arrival\")\n",
    "         # Add postgres jar\n",
    "         .config(\"spark.driver.extraClassPath\", \"/home/jovyan/work/jars/postgresql-9.4.1207.jar\")\n",
    "         .getOrCreate())\n",
    "sc = spark.sparkContext"
   ]
  },
  {
   "cell_type": "code",
   "execution_count": 2,
   "id": "cb616e66",
   "metadata": {},
   "outputs": [],
   "source": [
    "from pyspark.sql.functions import *\n",
    "from pyspark.sql.types import *\n",
    "from glob import glob\n",
    "import pandas as pd"
   ]
  },
  {
   "cell_type": "code",
   "execution_count": 14,
   "id": "dafec381",
   "metadata": {},
   "outputs": [
    {
     "name": "stderr",
     "output_type": "stream",
     "text": [
      "/tmp/ipykernel_52/2254228918.py:2: UserWarning: Boolean Series key will be reindexed to match DataFrame index.\n",
      "  df[df['link_name']=='0_1'][(df['link_timestamp'] > '2022-05-05') & (df['link_timestamp'] < '2022-05-06')][df['path']=='go']\\\n"
     ]
    },
    {
     "data": {
      "text/html": [
       "<div>\n",
       "<style scoped>\n",
       "    .dataframe tbody tr th:only-of-type {\n",
       "        vertical-align: middle;\n",
       "    }\n",
       "\n",
       "    .dataframe tbody tr th {\n",
       "        vertical-align: top;\n",
       "    }\n",
       "\n",
       "    .dataframe thead th {\n",
       "        text-align: right;\n",
       "    }\n",
       "</style>\n",
       "<table border=\"1\" class=\"dataframe\">\n",
       "  <thead>\n",
       "    <tr style=\"text-align: right;\">\n",
       "      <th></th>\n",
       "      <th>link_name</th>\n",
       "      <th>link_time</th>\n",
       "      <th>link_timestamp</th>\n",
       "      <th>path</th>\n",
       "      <th>gps_imei</th>\n",
       "      <th>routes</th>\n",
       "    </tr>\n",
       "  </thead>\n",
       "  <tbody>\n",
       "    <tr>\n",
       "      <th>32149</th>\n",
       "      <td>0_1</td>\n",
       "      <td>525</td>\n",
       "      <td>2022-05-05 05:01:51</td>\n",
       "      <td>go</td>\n",
       "      <td>866381052370738</td>\n",
       "      <td>6</td>\n",
       "    </tr>\n",
       "    <tr>\n",
       "      <th>32177</th>\n",
       "      <td>0_1</td>\n",
       "      <td>375</td>\n",
       "      <td>2022-05-05 05:18:28</td>\n",
       "      <td>go</td>\n",
       "      <td>866381052399851</td>\n",
       "      <td>6</td>\n",
       "    </tr>\n",
       "    <tr>\n",
       "      <th>32217</th>\n",
       "      <td>0_1</td>\n",
       "      <td>180</td>\n",
       "      <td>2022-05-05 05:31:49</td>\n",
       "      <td>go</td>\n",
       "      <td>866381052396675</td>\n",
       "      <td>6</td>\n",
       "    </tr>\n",
       "    <tr>\n",
       "      <th>32273</th>\n",
       "      <td>0_1</td>\n",
       "      <td>120</td>\n",
       "      <td>2022-05-05 05:46:34</td>\n",
       "      <td>go</td>\n",
       "      <td>866381052397913</td>\n",
       "      <td>6</td>\n",
       "    </tr>\n",
       "    <tr>\n",
       "      <th>32326</th>\n",
       "      <td>0_1</td>\n",
       "      <td>75</td>\n",
       "      <td>2022-05-05 06:00:56</td>\n",
       "      <td>go</td>\n",
       "      <td>866381052397178</td>\n",
       "      <td>6</td>\n",
       "    </tr>\n",
       "    <tr>\n",
       "      <th>32405</th>\n",
       "      <td>0_1</td>\n",
       "      <td>105</td>\n",
       "      <td>2022-05-05 06:16:35</td>\n",
       "      <td>go</td>\n",
       "      <td>866381052358725</td>\n",
       "      <td>6</td>\n",
       "    </tr>\n",
       "    <tr>\n",
       "      <th>32505</th>\n",
       "      <td>0_1</td>\n",
       "      <td>135</td>\n",
       "      <td>2022-05-05 06:32:04</td>\n",
       "      <td>go</td>\n",
       "      <td>868998030634154</td>\n",
       "      <td>6</td>\n",
       "    </tr>\n",
       "    <tr>\n",
       "      <th>32580</th>\n",
       "      <td>0_1</td>\n",
       "      <td>60</td>\n",
       "      <td>2022-05-05 06:42:14</td>\n",
       "      <td>go</td>\n",
       "      <td>866381052384499</td>\n",
       "      <td>6</td>\n",
       "    </tr>\n",
       "    <tr>\n",
       "      <th>32649</th>\n",
       "      <td>0_1</td>\n",
       "      <td>120</td>\n",
       "      <td>2022-05-05 06:51:02</td>\n",
       "      <td>go</td>\n",
       "      <td>866381052396311</td>\n",
       "      <td>6</td>\n",
       "    </tr>\n",
       "    <tr>\n",
       "      <th>32738</th>\n",
       "      <td>0_1</td>\n",
       "      <td>150</td>\n",
       "      <td>2022-05-05 07:02:42</td>\n",
       "      <td>go</td>\n",
       "      <td>864507039676258</td>\n",
       "      <td>6</td>\n",
       "    </tr>\n",
       "    <tr>\n",
       "      <th>32826</th>\n",
       "      <td>0_1</td>\n",
       "      <td>435</td>\n",
       "      <td>2022-05-05 07:12:57</td>\n",
       "      <td>go</td>\n",
       "      <td>866381052370225</td>\n",
       "      <td>6</td>\n",
       "    </tr>\n",
       "    <tr>\n",
       "      <th>32942</th>\n",
       "      <td>0_1</td>\n",
       "      <td>165</td>\n",
       "      <td>2022-05-05 07:25:03</td>\n",
       "      <td>go</td>\n",
       "      <td>866381052396238</td>\n",
       "      <td>6</td>\n",
       "    </tr>\n",
       "    <tr>\n",
       "      <th>32985</th>\n",
       "      <td>0_1</td>\n",
       "      <td>210</td>\n",
       "      <td>2022-05-05 07:31:48</td>\n",
       "      <td>go</td>\n",
       "      <td>869530043171863</td>\n",
       "      <td>6</td>\n",
       "    </tr>\n",
       "    <tr>\n",
       "      <th>33110</th>\n",
       "      <td>0_1</td>\n",
       "      <td>105</td>\n",
       "      <td>2022-05-05 07:43:41</td>\n",
       "      <td>go</td>\n",
       "      <td>869530043171871</td>\n",
       "      <td>6</td>\n",
       "    </tr>\n",
       "    <tr>\n",
       "      <th>33216</th>\n",
       "      <td>0_1</td>\n",
       "      <td>570</td>\n",
       "      <td>2022-05-05 07:54:19</td>\n",
       "      <td>go</td>\n",
       "      <td>866381052370738</td>\n",
       "      <td>6</td>\n",
       "    </tr>\n",
       "    <tr>\n",
       "      <th>33298</th>\n",
       "      <td>0_1</td>\n",
       "      <td>90</td>\n",
       "      <td>2022-05-05 08:02:36</td>\n",
       "      <td>go</td>\n",
       "      <td>866381052399851</td>\n",
       "      <td>6</td>\n",
       "    </tr>\n",
       "    <tr>\n",
       "      <th>33382</th>\n",
       "      <td>0_1</td>\n",
       "      <td>105</td>\n",
       "      <td>2022-05-05 08:10:34</td>\n",
       "      <td>go</td>\n",
       "      <td>866381052396675</td>\n",
       "      <td>6</td>\n",
       "    </tr>\n",
       "    <tr>\n",
       "      <th>33496</th>\n",
       "      <td>0_1</td>\n",
       "      <td>195</td>\n",
       "      <td>2022-05-05 08:20:34</td>\n",
       "      <td>go</td>\n",
       "      <td>866381052397913</td>\n",
       "      <td>6</td>\n",
       "    </tr>\n",
       "    <tr>\n",
       "      <th>33625</th>\n",
       "      <td>0_1</td>\n",
       "      <td>150</td>\n",
       "      <td>2022-05-05 08:32:08</td>\n",
       "      <td>go</td>\n",
       "      <td>866381052397178</td>\n",
       "      <td>6</td>\n",
       "    </tr>\n",
       "    <tr>\n",
       "      <th>33750</th>\n",
       "      <td>0_1</td>\n",
       "      <td>330</td>\n",
       "      <td>2022-05-05 08:43:20</td>\n",
       "      <td>go</td>\n",
       "      <td>866381052358725</td>\n",
       "      <td>6</td>\n",
       "    </tr>\n",
       "  </tbody>\n",
       "</table>\n",
       "</div>"
      ],
      "text/plain": [
       "      link_name  link_time       link_timestamp path         gps_imei  routes\n",
       "32149       0_1        525  2022-05-05 05:01:51   go  866381052370738       6\n",
       "32177       0_1        375  2022-05-05 05:18:28   go  866381052399851       6\n",
       "32217       0_1        180  2022-05-05 05:31:49   go  866381052396675       6\n",
       "32273       0_1        120  2022-05-05 05:46:34   go  866381052397913       6\n",
       "32326       0_1         75  2022-05-05 06:00:56   go  866381052397178       6\n",
       "32405       0_1        105  2022-05-05 06:16:35   go  866381052358725       6\n",
       "32505       0_1        135  2022-05-05 06:32:04   go  868998030634154       6\n",
       "32580       0_1         60  2022-05-05 06:42:14   go  866381052384499       6\n",
       "32649       0_1        120  2022-05-05 06:51:02   go  866381052396311       6\n",
       "32738       0_1        150  2022-05-05 07:02:42   go  864507039676258       6\n",
       "32826       0_1        435  2022-05-05 07:12:57   go  866381052370225       6\n",
       "32942       0_1        165  2022-05-05 07:25:03   go  866381052396238       6\n",
       "32985       0_1        210  2022-05-05 07:31:48   go  869530043171863       6\n",
       "33110       0_1        105  2022-05-05 07:43:41   go  869530043171871       6\n",
       "33216       0_1        570  2022-05-05 07:54:19   go  866381052370738       6\n",
       "33298       0_1         90  2022-05-05 08:02:36   go  866381052399851       6\n",
       "33382       0_1        105  2022-05-05 08:10:34   go  866381052396675       6\n",
       "33496       0_1        195  2022-05-05 08:20:34   go  866381052397913       6\n",
       "33625       0_1        150  2022-05-05 08:32:08   go  866381052397178       6\n",
       "33750       0_1        330  2022-05-05 08:43:20   go  866381052358725       6"
      ]
     },
     "execution_count": 14,
     "metadata": {},
     "output_type": "execute_result"
    }
   ],
   "source": [
    "df = pd.read_csv('/home/jovyan/work/data/arrival/m05/links/link_6.csv')\n",
    "df[df['link_name']=='0_1'][(df['link_timestamp'] > '2022-05-05') & (df['link_timestamp'] < '2022-05-06')][df['path']=='go']\\\n",
    "    .sort_values('link_timestamp').head(20)"
   ]
  },
  {
   "cell_type": "code",
   "execution_count": null,
   "id": "9d212ee9",
   "metadata": {},
   "outputs": [],
   "source": []
  },
  {
   "cell_type": "code",
   "execution_count": null,
   "id": "d23edc86",
   "metadata": {},
   "outputs": [],
   "source": []
  },
  {
   "cell_type": "code",
   "execution_count": null,
   "id": "a48defdb",
   "metadata": {},
   "outputs": [],
   "source": []
  },
  {
   "cell_type": "code",
   "execution_count": 9,
   "id": "766da8db",
   "metadata": {},
   "outputs": [
    {
     "data": {
      "text/plain": [
       "['/home/jovyan/work/data/old/links/link_6.csv',\n",
       " '/home/jovyan/work/data/old/links/link_133.csv',\n",
       " '/home/jovyan/work/data/old/links/link_56.csv',\n",
       " '/home/jovyan/work/data/old/links/link_35.csv']"
      ]
     },
     "execution_count": 9,
     "metadata": {},
     "output_type": "execute_result"
    }
   ],
   "source": [
    "files = glob('/home/jovyan/work/data/old/links/*csv')\n",
    "files"
   ]
  },
  {
   "cell_type": "code",
   "execution_count": 5,
   "id": "32b44d01",
   "metadata": {},
   "outputs": [
    {
     "name": "stdout",
     "output_type": "stream",
     "text": [
      "root\n",
      " |-- link_name: string (nullable = true)\n",
      " |-- link_time: string (nullable = true)\n",
      " |-- link_timestamp: string (nullable = true)\n",
      " |-- path: string (nullable = true)\n",
      " |-- gps_imei: string (nullable = true)\n",
      " |-- routes: string (nullable = true)\n",
      "\n"
     ]
    }
   ],
   "source": [
    "df = (spark.read.format('csv')\n",
    "              .option(\"header\", True)\n",
    "             .load(\"/home/jovyan/work/data/old/links/*.csv\"))\n",
    "df.printSchema()"
   ]
  },
  {
   "cell_type": "code",
   "execution_count": 6,
   "id": "121eced5",
   "metadata": {},
   "outputs": [
    {
     "ename": "AnalysisException",
     "evalue": "cannot resolve '`link_time(sec)`' given input columns: [gps_imei, link_name, link_time, link_timestamp, path, routes];\n'Project [link_name#16, cast('link_time(sec) as int) AS link_time#28, link_timestamp#18, path#19, gps_imei#20, routes#21]\n+- Relation [link_name#16,link_time#17,link_timestamp#18,path#19,gps_imei#20,routes#21] csv\n",
     "output_type": "error",
     "traceback": [
      "\u001b[0;31m---------------------------------------------------------------------------\u001b[0m",
      "\u001b[0;31mAnalysisException\u001b[0m                         Traceback (most recent call last)",
      "Input \u001b[0;32mIn [6]\u001b[0m, in \u001b[0;36m<module>\u001b[0;34m\u001b[0m\n\u001b[0;32m----> 1\u001b[0m df \u001b[38;5;241m=\u001b[39m (\u001b[43mdf\u001b[49m\u001b[38;5;241;43m.\u001b[39;49m\u001b[43mwithColumn\u001b[49m\u001b[43m(\u001b[49m\u001b[38;5;124;43m\"\u001b[39;49m\u001b[38;5;124;43mlink_time\u001b[39;49m\u001b[38;5;124;43m\"\u001b[39;49m\u001b[43m,\u001b[49m\u001b[43mcol\u001b[49m\u001b[43m(\u001b[49m\u001b[38;5;124;43m\"\u001b[39;49m\u001b[38;5;124;43mlink_time(sec)\u001b[39;49m\u001b[38;5;124;43m\"\u001b[39;49m\u001b[43m)\u001b[49m\u001b[38;5;241;43m.\u001b[39;49m\u001b[43mcast\u001b[49m\u001b[43m(\u001b[49m\u001b[38;5;124;43m'\u001b[39;49m\u001b[38;5;124;43minteger\u001b[39;49m\u001b[38;5;124;43m'\u001b[39;49m\u001b[43m)\u001b[49m\u001b[43m)\u001b[49m\n\u001b[1;32m      2\u001b[0m               \u001b[38;5;241m.\u001b[39mwithColumn(\u001b[38;5;124m\"\u001b[39m\u001b[38;5;124mroutes\u001b[39m\u001b[38;5;124m\"\u001b[39m, col(\u001b[38;5;124m\"\u001b[39m\u001b[38;5;124mroutes\u001b[39m\u001b[38;5;124m\"\u001b[39m)\u001b[38;5;241m.\u001b[39mcast(\u001b[38;5;124m'\u001b[39m\u001b[38;5;124minteger\u001b[39m\u001b[38;5;124m'\u001b[39m))\n\u001b[1;32m      3\u001b[0m              )\u001b[38;5;241m.\u001b[39mselect(\u001b[38;5;124m\"\u001b[39m\u001b[38;5;124mlink_name\u001b[39m\u001b[38;5;124m\"\u001b[39m,\u001b[38;5;124m\"\u001b[39m\u001b[38;5;124mlink_time\u001b[39m\u001b[38;5;124m\"\u001b[39m,\u001b[38;5;124m\"\u001b[39m\u001b[38;5;124mlink_timestamp\u001b[39m\u001b[38;5;124m\"\u001b[39m,\u001b[38;5;124m\"\u001b[39m\u001b[38;5;124mpath\u001b[39m\u001b[38;5;124m\"\u001b[39m,\u001b[38;5;124m\"\u001b[39m\u001b[38;5;124mroutes\u001b[39m\u001b[38;5;124m\"\u001b[39m)\n\u001b[1;32m      4\u001b[0m df\u001b[38;5;241m.\u001b[39mprintSchema()\n",
      "File \u001b[0;32m/usr/local/spark/python/pyspark/sql/dataframe.py:2478\u001b[0m, in \u001b[0;36mDataFrame.withColumn\u001b[0;34m(self, colName, col)\u001b[0m\n\u001b[1;32m   2476\u001b[0m \u001b[38;5;28;01mif\u001b[39;00m \u001b[38;5;129;01mnot\u001b[39;00m \u001b[38;5;28misinstance\u001b[39m(col, Column):\n\u001b[1;32m   2477\u001b[0m     \u001b[38;5;28;01mraise\u001b[39;00m \u001b[38;5;167;01mTypeError\u001b[39;00m(\u001b[38;5;124m\"\u001b[39m\u001b[38;5;124mcol should be Column\u001b[39m\u001b[38;5;124m\"\u001b[39m)\n\u001b[0;32m-> 2478\u001b[0m \u001b[38;5;28;01mreturn\u001b[39;00m DataFrame(\u001b[38;5;28;43mself\u001b[39;49m\u001b[38;5;241;43m.\u001b[39;49m\u001b[43m_jdf\u001b[49m\u001b[38;5;241;43m.\u001b[39;49m\u001b[43mwithColumn\u001b[49m\u001b[43m(\u001b[49m\u001b[43mcolName\u001b[49m\u001b[43m,\u001b[49m\u001b[43m \u001b[49m\u001b[43mcol\u001b[49m\u001b[38;5;241;43m.\u001b[39;49m\u001b[43m_jc\u001b[49m\u001b[43m)\u001b[49m, \u001b[38;5;28mself\u001b[39m\u001b[38;5;241m.\u001b[39msql_ctx)\n",
      "File \u001b[0;32m/usr/local/spark/python/lib/py4j-0.10.9.2-src.zip/py4j/java_gateway.py:1309\u001b[0m, in \u001b[0;36mJavaMember.__call__\u001b[0;34m(self, *args)\u001b[0m\n\u001b[1;32m   1303\u001b[0m command \u001b[38;5;241m=\u001b[39m proto\u001b[38;5;241m.\u001b[39mCALL_COMMAND_NAME \u001b[38;5;241m+\u001b[39m\\\n\u001b[1;32m   1304\u001b[0m     \u001b[38;5;28mself\u001b[39m\u001b[38;5;241m.\u001b[39mcommand_header \u001b[38;5;241m+\u001b[39m\\\n\u001b[1;32m   1305\u001b[0m     args_command \u001b[38;5;241m+\u001b[39m\\\n\u001b[1;32m   1306\u001b[0m     proto\u001b[38;5;241m.\u001b[39mEND_COMMAND_PART\n\u001b[1;32m   1308\u001b[0m answer \u001b[38;5;241m=\u001b[39m \u001b[38;5;28mself\u001b[39m\u001b[38;5;241m.\u001b[39mgateway_client\u001b[38;5;241m.\u001b[39msend_command(command)\n\u001b[0;32m-> 1309\u001b[0m return_value \u001b[38;5;241m=\u001b[39m \u001b[43mget_return_value\u001b[49m\u001b[43m(\u001b[49m\n\u001b[1;32m   1310\u001b[0m \u001b[43m    \u001b[49m\u001b[43manswer\u001b[49m\u001b[43m,\u001b[49m\u001b[43m \u001b[49m\u001b[38;5;28;43mself\u001b[39;49m\u001b[38;5;241;43m.\u001b[39;49m\u001b[43mgateway_client\u001b[49m\u001b[43m,\u001b[49m\u001b[43m \u001b[49m\u001b[38;5;28;43mself\u001b[39;49m\u001b[38;5;241;43m.\u001b[39;49m\u001b[43mtarget_id\u001b[49m\u001b[43m,\u001b[49m\u001b[43m \u001b[49m\u001b[38;5;28;43mself\u001b[39;49m\u001b[38;5;241;43m.\u001b[39;49m\u001b[43mname\u001b[49m\u001b[43m)\u001b[49m\n\u001b[1;32m   1312\u001b[0m \u001b[38;5;28;01mfor\u001b[39;00m temp_arg \u001b[38;5;129;01min\u001b[39;00m temp_args:\n\u001b[1;32m   1313\u001b[0m     temp_arg\u001b[38;5;241m.\u001b[39m_detach()\n",
      "File \u001b[0;32m/usr/local/spark/python/pyspark/sql/utils.py:117\u001b[0m, in \u001b[0;36mcapture_sql_exception.<locals>.deco\u001b[0;34m(*a, **kw)\u001b[0m\n\u001b[1;32m    113\u001b[0m converted \u001b[38;5;241m=\u001b[39m convert_exception(e\u001b[38;5;241m.\u001b[39mjava_exception)\n\u001b[1;32m    114\u001b[0m \u001b[38;5;28;01mif\u001b[39;00m \u001b[38;5;129;01mnot\u001b[39;00m \u001b[38;5;28misinstance\u001b[39m(converted, UnknownException):\n\u001b[1;32m    115\u001b[0m     \u001b[38;5;66;03m# Hide where the exception came from that shows a non-Pythonic\u001b[39;00m\n\u001b[1;32m    116\u001b[0m     \u001b[38;5;66;03m# JVM exception message.\u001b[39;00m\n\u001b[0;32m--> 117\u001b[0m     \u001b[38;5;28;01mraise\u001b[39;00m converted \u001b[38;5;28;01mfrom\u001b[39;00m \u001b[38;5;28mNone\u001b[39m\n\u001b[1;32m    118\u001b[0m \u001b[38;5;28;01melse\u001b[39;00m:\n\u001b[1;32m    119\u001b[0m     \u001b[38;5;28;01mraise\u001b[39;00m\n",
      "\u001b[0;31mAnalysisException\u001b[0m: cannot resolve '`link_time(sec)`' given input columns: [gps_imei, link_name, link_time, link_timestamp, path, routes];\n'Project [link_name#16, cast('link_time(sec) as int) AS link_time#28, link_timestamp#18, path#19, gps_imei#20, routes#21]\n+- Relation [link_name#16,link_time#17,link_timestamp#18,path#19,gps_imei#20,routes#21] csv\n"
     ]
    }
   ],
   "source": [
    "df = (df.withColumn(\"link_time\",col(\"link_time(sec)\").cast('integer'))\n",
    "              .withColumn(\"routes\", col(\"routes\").cast('integer'))\n",
    "             ).select(\"link_name\",\"link_time\",\"link_timestamp\",\"path\",\"routes\")\n",
    "df.printSchema()"
   ]
  },
  {
   "cell_type": "markdown",
   "id": "fc02f4d6",
   "metadata": {},
   "source": [
    "# Upload to postgresql"
   ]
  },
  {
   "cell_type": "code",
   "execution_count": 64,
   "id": "ce34ad10",
   "metadata": {},
   "outputs": [
    {
     "name": "stderr",
     "output_type": "stream",
     "text": [
      "                                                                                \r"
     ]
    }
   ],
   "source": [
    "(df.write\n",
    " .format(\"jdbc\")\n",
    " .option(\"url\", \"jdbc:postgresql://postgres/test\")\n",
    " .option(\"dbtable\", \"public.link_time\")\n",
    " .option(\"user\", \"test\")\n",
    " .option(\"password\", \"postgres\")\n",
    " .mode(\"overwrite\") # to append change to mode(\"append\")\n",
    " .save())"
   ]
  },
  {
   "cell_type": "code",
   "execution_count": null,
   "id": "7c49b354",
   "metadata": {},
   "outputs": [],
   "source": []
  }
 ],
 "metadata": {
  "kernelspec": {
   "display_name": "Python 3 (ipykernel)",
   "language": "python",
   "name": "python3"
  },
  "language_info": {
   "codemirror_mode": {
    "name": "ipython",
    "version": 3
   },
   "file_extension": ".py",
   "mimetype": "text/x-python",
   "name": "python",
   "nbconvert_exporter": "python",
   "pygments_lexer": "ipython3",
   "version": "3.9.7"
  },
  "vscode": {
   "interpreter": {
    "hash": "31f2aee4e71d21fbe5cf8b01ff0e069b9275f58929596ceb00d14d90e3e16cd6"
   }
  }
 },
 "nbformat": 4,
 "nbformat_minor": 5
}
