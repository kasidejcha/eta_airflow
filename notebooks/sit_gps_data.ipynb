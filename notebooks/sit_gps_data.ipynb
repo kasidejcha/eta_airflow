{
 "cells": [
  {
   "cell_type": "code",
   "execution_count": 21,
   "id": "85cc9736",
   "metadata": {},
   "outputs": [],
   "source": [
    "from pyspark.sql import SparkSession\n",
    "\n",
    "# Spark session & context\n",
    "spark = (SparkSession\n",
    "         .builder\n",
    "         .master(\"local\")\n",
    "         .appName(\"arrival\")\n",
    "         # Add postgres jar\n",
    "         .config(\"spark.driver.extraClassPath\", \"/home/jovyan/work/jars/postgresql-9.4.1207.jar\")\n",
    "         .getOrCreate())\n",
    "sc = spark.sparkContext"
   ]
  },
  {
   "cell_type": "code",
   "execution_count": 2,
   "id": "41c38943",
   "metadata": {},
   "outputs": [],
   "source": [
    "from pyspark.sql.functions import *\n",
    "from pyspark.sql.types import *\n",
    "from glob import glob\n",
    "import pandas as pd\n",
    "import uuid"
   ]
  },
  {
   "cell_type": "code",
   "execution_count": 3,
   "id": "c8819b9c",
   "metadata": {},
   "outputs": [
    {
     "data": {
      "text/plain": [
       "['/home/jovyan/work/data/gps_sit/sitgps_2022-09-02.csv',\n",
       " '/home/jovyan/work/data/gps_sit/sitgps_2022-09-04.csv',\n",
       " '/home/jovyan/work/data/gps_sit/sitgps_2022-09-09.csv',\n",
       " '/home/jovyan/work/data/gps_sit/sitgps_2022-09-11.csv',\n",
       " '/home/jovyan/work/data/gps_sit/sitgps_2022-09-12.csv',\n",
       " '/home/jovyan/work/data/gps_sit/sitgps_2022-09-01.csv',\n",
       " '/home/jovyan/work/data/gps_sit/sitgps_2022-09-03.csv',\n",
       " '/home/jovyan/work/data/gps_sit/sitgps_2022-09-13.csv',\n",
       " '/home/jovyan/work/data/gps_sit/sitgps_2022-09-07.csv',\n",
       " '/home/jovyan/work/data/gps_sit/sitgps_2022-09-10.csv',\n",
       " '/home/jovyan/work/data/gps_sit/sitgps_2022-09-15.csv',\n",
       " '/home/jovyan/work/data/gps_sit/sitgps_2022-09-08.csv',\n",
       " '/home/jovyan/work/data/gps_sit/sitgps_2022-09-05.csv',\n",
       " '/home/jovyan/work/data/gps_sit/sitgps_2022-09-16.csv',\n",
       " '/home/jovyan/work/data/gps_sit/sitgps_2022-09-06.csv',\n",
       " '/home/jovyan/work/data/gps_sit/sitgps_2022-09-14.csv']"
      ]
     },
     "execution_count": 3,
     "metadata": {},
     "output_type": "execute_result"
    }
   ],
   "source": [
    "glob('/home/jovyan/work/data/gps_sit/*.csv')"
   ]
  },
  {
   "cell_type": "code",
   "execution_count": 24,
   "id": "dd8cd302",
   "metadata": {},
   "outputs": [
    {
     "name": "stdout",
     "output_type": "stream",
     "text": [
      "root\n",
      " |-- device: string (nullable = true)\n",
      " |-- datetime_gps: string (nullable = true)\n",
      " |-- latitude: string (nullable = true)\n",
      " |-- longitude: string (nullable = true)\n",
      " |-- speed: string (nullable = true)\n",
      " |-- odometer: string (nullable = true)\n",
      " |-- engine_status: string (nullable = true)\n",
      "\n"
     ]
    }
   ],
   "source": [
    "gps = (spark.read.format('csv')\n",
    "              .option(\"header\", True)\n",
    "             .load(\"/home/jovyan/work/data/gps_sit/*.csv\"))\n",
    "gps = gps.orderBy(gps.datetime_gps.asc())\n",
    "gps.printSchema()"
   ]
  },
  {
   "cell_type": "code",
   "execution_count": 25,
   "id": "c7a0b6ce",
   "metadata": {},
   "outputs": [
    {
     "name": "stderr",
     "output_type": "stream",
     "text": [
      "                                                                                \r"
     ]
    },
    {
     "data": {
      "text/plain": [
       "7856453"
      ]
     },
     "execution_count": 25,
     "metadata": {},
     "output_type": "execute_result"
    }
   ],
   "source": [
    "gps.count()"
   ]
  },
  {
   "cell_type": "code",
   "execution_count": 26,
   "id": "f59af388",
   "metadata": {},
   "outputs": [
    {
     "name": "stdout",
     "output_type": "stream",
     "text": [
      "root\n",
      " |-- num: string (nullable = true)\n",
      " |-- routes: string (nullable = true)\n",
      " |-- chasis: string (nullable = true)\n",
      " |-- gps: string (nullable = true)\n",
      "\n"
     ]
    }
   ],
   "source": [
    "vehicle = (spark.read.format('csv')\n",
    "            .option(\"header\", True)\n",
    "            .load('/home/jovyan/work/data/vehicles.csv'))\n",
    "vehicle.printSchema()"
   ]
  },
  {
   "cell_type": "code",
   "execution_count": 27,
   "id": "94ef3950",
   "metadata": {},
   "outputs": [
    {
     "data": {
      "text/html": [
       "<div>\n",
       "<style scoped>\n",
       "    .dataframe tbody tr th:only-of-type {\n",
       "        vertical-align: middle;\n",
       "    }\n",
       "\n",
       "    .dataframe tbody tr th {\n",
       "        vertical-align: top;\n",
       "    }\n",
       "\n",
       "    .dataframe thead th {\n",
       "        text-align: right;\n",
       "    }\n",
       "</style>\n",
       "<table border=\"1\" class=\"dataframe\">\n",
       "  <thead>\n",
       "    <tr style=\"text-align: right;\">\n",
       "      <th></th>\n",
       "      <th>ชื่อผู้ประกอบการ</th>\n",
       "      <th>ยี่ห้อรถ</th>\n",
       "      <th>ประเภทรถ</th>\n",
       "      <th>สายรถ</th>\n",
       "      <th>ทะเบียนรถ</th>\n",
       "      <th>จังหวัด</th>\n",
       "      <th>หมายเลขตัวถัง</th>\n",
       "      <th>วันที่ติดตั้ง</th>\n",
       "      <th>อีมี่ GPS</th>\n",
       "      <th>routes</th>\n",
       "    </tr>\n",
       "  </thead>\n",
       "  <tbody>\n",
       "    <tr>\n",
       "      <th>0</th>\n",
       "      <td>บริษัท สมาร์ทบัส จำกัด</td>\n",
       "      <td>SUNLONG</td>\n",
       "      <td>รถโดยสาร ม.2 (ข)</td>\n",
       "      <td>28-01</td>\n",
       "      <td>16-4754</td>\n",
       "      <td>กรุงเทพมหานคร</td>\n",
       "      <td>PRAT29A3UFR000306</td>\n",
       "      <td>2565-07-04 00:00:00</td>\n",
       "      <td>866728061461934</td>\n",
       "      <td>28</td>\n",
       "    </tr>\n",
       "    <tr>\n",
       "      <th>1</th>\n",
       "      <td>บริษัท สมาร์ทบัส จำกัด</td>\n",
       "      <td>SUNLONG</td>\n",
       "      <td>รถโดยสาร ม.2 (ข)</td>\n",
       "      <td>28-02</td>\n",
       "      <td>16-4768</td>\n",
       "      <td>กรุงเทพมหานคร</td>\n",
       "      <td>PRAT29A3UFR000308</td>\n",
       "      <td>2565-07-04 00:00:00</td>\n",
       "      <td>866728061462346</td>\n",
       "      <td>28</td>\n",
       "    </tr>\n",
       "    <tr>\n",
       "      <th>2</th>\n",
       "      <td>บริษัท สมาร์ทบัส จำกัด</td>\n",
       "      <td>SUNLONG</td>\n",
       "      <td>รถโดยสาร ม.2 (ข)</td>\n",
       "      <td>28-03</td>\n",
       "      <td>16-4731</td>\n",
       "      <td>กรุงเทพมหานคร</td>\n",
       "      <td>PRAT29A3UFR000309</td>\n",
       "      <td>2565-07-04 00:00:00</td>\n",
       "      <td>867648045405519</td>\n",
       "      <td>28</td>\n",
       "    </tr>\n",
       "    <tr>\n",
       "      <th>3</th>\n",
       "      <td>บริษัท สมาร์ทบัส จำกัด</td>\n",
       "      <td>SUNLONG</td>\n",
       "      <td>รถโดยสาร ม.2 (ข)</td>\n",
       "      <td>28-04</td>\n",
       "      <td>16-4728</td>\n",
       "      <td>กรุงเทพมหานคร</td>\n",
       "      <td>PRAT29A3UFR000311</td>\n",
       "      <td>2565-07-04 00:00:00</td>\n",
       "      <td>866728061463203</td>\n",
       "      <td>28</td>\n",
       "    </tr>\n",
       "    <tr>\n",
       "      <th>4</th>\n",
       "      <td>บริษัท สมาร์ทบัส จำกัด</td>\n",
       "      <td>SUNLONG</td>\n",
       "      <td>รถโดยสาร ม.2 (ข)</td>\n",
       "      <td>28-05</td>\n",
       "      <td>16-4756</td>\n",
       "      <td>กรุงเทพมหานคร</td>\n",
       "      <td>PRAT29A3UFR000313</td>\n",
       "      <td>2565-07-04 00:00:00</td>\n",
       "      <td>866728061462437</td>\n",
       "      <td>28</td>\n",
       "    </tr>\n",
       "    <tr>\n",
       "      <th>5</th>\n",
       "      <td>บริษัท สมาร์ทบัส จำกัด</td>\n",
       "      <td>SUNLONG</td>\n",
       "      <td>รถโดยสาร ม.2 (ข)</td>\n",
       "      <td>28-06</td>\n",
       "      <td>16-4776</td>\n",
       "      <td>กรุงเทพมหานคร</td>\n",
       "      <td>PRAT29A3UFR000316</td>\n",
       "      <td>2565-07-04 00:00:00</td>\n",
       "      <td>867648045372768</td>\n",
       "      <td>28</td>\n",
       "    </tr>\n",
       "    <tr>\n",
       "      <th>6</th>\n",
       "      <td>บริษัท สมาร์ทบัส จำกัด</td>\n",
       "      <td>SUNLONG</td>\n",
       "      <td>รถโดยสาร ม.2 (ข)</td>\n",
       "      <td>28-07</td>\n",
       "      <td>16-4733</td>\n",
       "      <td>กรุงเทพมหานคร</td>\n",
       "      <td>PRAT29A3UFR000318</td>\n",
       "      <td>2565-07-04 00:00:00</td>\n",
       "      <td>866728061462288</td>\n",
       "      <td>28</td>\n",
       "    </tr>\n",
       "    <tr>\n",
       "      <th>7</th>\n",
       "      <td>บริษัท สมาร์ทบัส จำกัด</td>\n",
       "      <td>SUNLONG</td>\n",
       "      <td>รถโดยสาร ม.2 (ข)</td>\n",
       "      <td>28-08</td>\n",
       "      <td>16-4729</td>\n",
       "      <td>กรุงเทพมหานคร</td>\n",
       "      <td>PRAT29A3UFR000319</td>\n",
       "      <td>2565-07-04 00:00:00</td>\n",
       "      <td>867648045411350</td>\n",
       "      <td>28</td>\n",
       "    </tr>\n",
       "    <tr>\n",
       "      <th>8</th>\n",
       "      <td>บริษัท สมาร์ทบัส จำกัด</td>\n",
       "      <td>SUNLONG</td>\n",
       "      <td>รถโดยสาร ม.2 (ข)</td>\n",
       "      <td>28-09</td>\n",
       "      <td>16-4730</td>\n",
       "      <td>กรุงเทพมหานคร</td>\n",
       "      <td>PRAT29A3UFR000321</td>\n",
       "      <td>2565-07-04 00:00:00</td>\n",
       "      <td>866728061461306</td>\n",
       "      <td>28</td>\n",
       "    </tr>\n",
       "    <tr>\n",
       "      <th>9</th>\n",
       "      <td>บริษัท สมาร์ทบัส จำกัด</td>\n",
       "      <td>SUNLONG</td>\n",
       "      <td>รถโดยสาร ม.2 (ข)</td>\n",
       "      <td>28-10</td>\n",
       "      <td>16-4755</td>\n",
       "      <td>กรุงเทพมหานคร</td>\n",
       "      <td>PRAT29A3UFR000328</td>\n",
       "      <td>2565-07-04 00:00:00</td>\n",
       "      <td>866728061458435</td>\n",
       "      <td>28</td>\n",
       "    </tr>\n",
       "  </tbody>\n",
       "</table>\n",
       "</div>"
      ],
      "text/plain": [
       "         ชื่อผู้ประกอบการ ยี่ห้อรถ          ประเภทรถ  สายรถ ทะเบียนรถ  \\\n",
       "0  บริษัท สมาร์ทบัส จำกัด  SUNLONG  รถโดยสาร ม.2 (ข)  28-01   16-4754   \n",
       "1  บริษัท สมาร์ทบัส จำกัด  SUNLONG  รถโดยสาร ม.2 (ข)  28-02   16-4768   \n",
       "2  บริษัท สมาร์ทบัส จำกัด  SUNLONG  รถโดยสาร ม.2 (ข)  28-03   16-4731   \n",
       "3  บริษัท สมาร์ทบัส จำกัด  SUNLONG  รถโดยสาร ม.2 (ข)  28-04   16-4728   \n",
       "4  บริษัท สมาร์ทบัส จำกัด  SUNLONG  รถโดยสาร ม.2 (ข)  28-05   16-4756   \n",
       "5  บริษัท สมาร์ทบัส จำกัด  SUNLONG  รถโดยสาร ม.2 (ข)  28-06   16-4776   \n",
       "6  บริษัท สมาร์ทบัส จำกัด  SUNLONG  รถโดยสาร ม.2 (ข)  28-07   16-4733   \n",
       "7  บริษัท สมาร์ทบัส จำกัด  SUNLONG  รถโดยสาร ม.2 (ข)  28-08   16-4729   \n",
       "8  บริษัท สมาร์ทบัส จำกัด  SUNLONG  รถโดยสาร ม.2 (ข)  28-09   16-4730   \n",
       "9  บริษัท สมาร์ทบัส จำกัด  SUNLONG  รถโดยสาร ม.2 (ข)  28-10   16-4755   \n",
       "\n",
       "          จังหวัด      หมายเลขตัวถัง        วันที่ติดตั้ง        อีมี่ GPS  \\\n",
       "0  กรุงเทพมหานคร   PRAT29A3UFR000306  2565-07-04 00:00:00  866728061461934   \n",
       "1  กรุงเทพมหานคร   PRAT29A3UFR000308  2565-07-04 00:00:00  866728061462346   \n",
       "2  กรุงเทพมหานคร   PRAT29A3UFR000309  2565-07-04 00:00:00  867648045405519   \n",
       "3  กรุงเทพมหานคร   PRAT29A3UFR000311  2565-07-04 00:00:00  866728061463203   \n",
       "4  กรุงเทพมหานคร   PRAT29A3UFR000313  2565-07-04 00:00:00  866728061462437   \n",
       "5  กรุงเทพมหานคร   PRAT29A3UFR000316  2565-07-04 00:00:00  867648045372768   \n",
       "6  กรุงเทพมหานคร   PRAT29A3UFR000318  2565-07-04 00:00:00  866728061462288   \n",
       "7  กรุงเทพมหานคร   PRAT29A3UFR000319  2565-07-04 00:00:00  867648045411350   \n",
       "8  กรุงเทพมหานคร   PRAT29A3UFR000321  2565-07-04 00:00:00  866728061461306   \n",
       "9  กรุงเทพมหานคร   PRAT29A3UFR000328  2565-07-04 00:00:00  866728061458435   \n",
       "\n",
       "  routes  \n",
       "0     28  \n",
       "1     28  \n",
       "2     28  \n",
       "3     28  \n",
       "4     28  \n",
       "5     28  \n",
       "6     28  \n",
       "7     28  \n",
       "8     28  \n",
       "9     28  "
      ]
     },
     "execution_count": 27,
     "metadata": {},
     "output_type": "execute_result"
    }
   ],
   "source": [
    "smart_bus = pd.read_excel('/home/jovyan/work/data/smart_bus.xlsx')\n",
    "smart_bus['routes'] = smart_bus['สายรถ'].str.split('-', n=1).str.get(0)\n",
    "smart_bus = smart_bus.drop('No.',axis=1)\n",
    "sb = spark.createDataFrame(smart_bus)\n",
    "smart_bus.head(10)"
   ]
  },
  {
   "cell_type": "code",
   "execution_count": 28,
   "id": "5f02ee9b",
   "metadata": {},
   "outputs": [
    {
     "name": "stdout",
     "output_type": "stream",
     "text": [
      "root\n",
      " |-- ชื่อผู้ประกอบการ: string (nullable = true)\n",
      " |-- ยี่ห้อรถ: string (nullable = true)\n",
      " |-- ประเภทรถ: string (nullable = true)\n",
      " |-- สายรถ: string (nullable = true)\n",
      " |-- ทะเบียนรถ: string (nullable = true)\n",
      " |-- จังหวัด: string (nullable = true)\n",
      " |-- หมายเลขตัวถัง: string (nullable = true)\n",
      " |-- วันที่ติดตั้ง: timestamp (nullable = true)\n",
      " |-- อีมี่ GPS: long (nullable = true)\n",
      " |-- routes: string (nullable = true)\n",
      "\n"
     ]
    }
   ],
   "source": [
    "sb.printSchema()"
   ]
  },
  {
   "cell_type": "code",
   "execution_count": 29,
   "id": "176edc09",
   "metadata": {},
   "outputs": [
    {
     "data": {
      "text/html": [
       "<div>\n",
       "<style scoped>\n",
       "    .dataframe tbody tr th:only-of-type {\n",
       "        vertical-align: middle;\n",
       "    }\n",
       "\n",
       "    .dataframe tbody tr th {\n",
       "        vertical-align: top;\n",
       "    }\n",
       "\n",
       "    .dataframe thead th {\n",
       "        text-align: right;\n",
       "    }\n",
       "</style>\n",
       "<table border=\"1\" class=\"dataframe\">\n",
       "  <thead>\n",
       "    <tr style=\"text-align: right;\">\n",
       "      <th></th>\n",
       "      <th>num</th>\n",
       "      <th>routes</th>\n",
       "      <th>chasis</th>\n",
       "      <th>gps</th>\n",
       "    </tr>\n",
       "  </thead>\n",
       "  <tbody>\n",
       "    <tr>\n",
       "      <th>0</th>\n",
       "      <td>16-5840 กทม.</td>\n",
       "      <td>35</td>\n",
       "      <td>MRSBCREM3MZM00001</td>\n",
       "      <td>868998031822683</td>\n",
       "    </tr>\n",
       "    <tr>\n",
       "      <th>1</th>\n",
       "      <td>16-5843 กทม.</td>\n",
       "      <td>35</td>\n",
       "      <td>MRSBCREM5MZM00033</td>\n",
       "      <td>864507039673982</td>\n",
       "    </tr>\n",
       "    <tr>\n",
       "      <th>2</th>\n",
       "      <td>16-5845 กทม.</td>\n",
       "      <td>35</td>\n",
       "      <td>MRSBCREM8MZM00057</td>\n",
       "      <td>868998030634774</td>\n",
       "    </tr>\n",
       "    <tr>\n",
       "      <th>3</th>\n",
       "      <td>16-5844 กทม.</td>\n",
       "      <td>35</td>\n",
       "      <td>MRSBCREM1MZM00062</td>\n",
       "      <td>868998030615351</td>\n",
       "    </tr>\n",
       "    <tr>\n",
       "      <th>4</th>\n",
       "      <td>16-5847 กทม.</td>\n",
       "      <td>35</td>\n",
       "      <td>MRSBCREM7MZM00034</td>\n",
       "      <td>868998030627521</td>\n",
       "    </tr>\n",
       "  </tbody>\n",
       "</table>\n",
       "</div>"
      ],
      "text/plain": [
       "            num routes             chasis              gps\n",
       "0  16-5840 กทม.     35  MRSBCREM3MZM00001  868998031822683\n",
       "1  16-5843 กทม.     35  MRSBCREM5MZM00033  864507039673982\n",
       "2  16-5845 กทม.     35  MRSBCREM8MZM00057  868998030634774\n",
       "3  16-5844 กทม.     35  MRSBCREM1MZM00062  868998030615351\n",
       "4  16-5847 กทม.     35  MRSBCREM7MZM00034  868998030627521"
      ]
     },
     "execution_count": 29,
     "metadata": {},
     "output_type": "execute_result"
    }
   ],
   "source": [
    "vehicle.limit(5).toPandas()"
   ]
  },
  {
   "cell_type": "code",
   "execution_count": 30,
   "id": "29e95ead",
   "metadata": {},
   "outputs": [
    {
     "name": "stderr",
     "output_type": "stream",
     "text": [
      "                                                                                \r"
     ]
    }
   ],
   "source": [
    "v_list = vehicle.toPandas()['gps'].tolist()\n",
    "sb_list = smart_bus['อีมี่ GPS'].tolist()\n",
    "gps_list = gps.select('device').distinct().toPandas()['device'].astype(int).tolist()"
   ]
  },
  {
   "cell_type": "code",
   "execution_count": 31,
   "id": "9a3ba06f",
   "metadata": {},
   "outputs": [
    {
     "data": {
      "text/plain": [
       "True"
      ]
     },
     "execution_count": 31,
     "metadata": {},
     "output_type": "execute_result"
    }
   ],
   "source": [
    "set(v_list).isdisjoint(set(gps_list))"
   ]
  },
  {
   "cell_type": "code",
   "execution_count": 32,
   "id": "51e395a6",
   "metadata": {},
   "outputs": [
    {
     "data": {
      "text/plain": [
       "True"
      ]
     },
     "execution_count": 32,
     "metadata": {},
     "output_type": "execute_result"
    }
   ],
   "source": [
    "set(sb_list).isdisjoint(set(gps_list))"
   ]
  },
  {
   "cell_type": "code",
   "execution_count": 33,
   "id": "c504dd5f",
   "metadata": {},
   "outputs": [
    {
     "data": {
      "text/plain": [
       "(set(), set())"
      ]
     },
     "execution_count": 33,
     "metadata": {},
     "output_type": "execute_result"
    }
   ],
   "source": [
    "set.intersection(set(v_list),set(gps_list)), set.intersection(set(sb_list),set(gps_list))"
   ]
  },
  {
   "cell_type": "code",
   "execution_count": null,
   "id": "fd0477ba",
   "metadata": {},
   "outputs": [],
   "source": []
  },
  {
   "cell_type": "code",
   "execution_count": null,
   "id": "e4985319",
   "metadata": {},
   "outputs": [],
   "source": []
  },
  {
   "cell_type": "code",
   "execution_count": null,
   "id": "b425c274",
   "metadata": {},
   "outputs": [],
   "source": []
  },
  {
   "cell_type": "code",
   "execution_count": null,
   "id": "7e51721d",
   "metadata": {},
   "outputs": [],
   "source": []
  },
  {
   "cell_type": "code",
   "execution_count": null,
   "id": "677d110b",
   "metadata": {},
   "outputs": [],
   "source": []
  },
  {
   "cell_type": "code",
   "execution_count": null,
   "id": "77ca89c6",
   "metadata": {},
   "outputs": [],
   "source": []
  },
  {
   "cell_type": "code",
   "execution_count": 34,
   "id": "33826623",
   "metadata": {},
   "outputs": [
    {
     "name": "stdout",
     "output_type": "stream",
     "text": [
      "+------+\n",
      "|routes|\n",
      "+------+\n",
      "|   133|\n",
      "|    35|\n",
      "|     6|\n",
      "|    56|\n",
      "|    39|\n",
      "|    80|\n",
      "+------+\n",
      "\n"
     ]
    }
   ],
   "source": [
    "vehicle.select('routes').distinct().show()"
   ]
  },
  {
   "cell_type": "code",
   "execution_count": 35,
   "id": "6fceb1eb",
   "metadata": {},
   "outputs": [
    {
     "name": "stderr",
     "output_type": "stream",
     "text": [
      "                                                                                \r"
     ]
    },
    {
     "data": {
      "text/html": [
       "<div>\n",
       "<style scoped>\n",
       "    .dataframe tbody tr th:only-of-type {\n",
       "        vertical-align: middle;\n",
       "    }\n",
       "\n",
       "    .dataframe tbody tr th {\n",
       "        vertical-align: top;\n",
       "    }\n",
       "\n",
       "    .dataframe thead th {\n",
       "        text-align: right;\n",
       "    }\n",
       "</style>\n",
       "<table border=\"1\" class=\"dataframe\">\n",
       "  <thead>\n",
       "    <tr style=\"text-align: right;\">\n",
       "      <th></th>\n",
       "      <th>device</th>\n",
       "      <th>datetime_gps</th>\n",
       "      <th>latitude</th>\n",
       "      <th>longitude</th>\n",
       "      <th>speed</th>\n",
       "      <th>odometer</th>\n",
       "      <th>engine_status</th>\n",
       "    </tr>\n",
       "  </thead>\n",
       "  <tbody>\n",
       "    <tr>\n",
       "      <th>0</th>\n",
       "      <td>864352043372192</td>\n",
       "      <td>2022-09-01 00:00:00.000</td>\n",
       "      <td>13.787150</td>\n",
       "      <td>100.678210</td>\n",
       "      <td>0.00</td>\n",
       "      <td>2107603.0</td>\n",
       "      <td>0</td>\n",
       "    </tr>\n",
       "    <tr>\n",
       "      <th>1</th>\n",
       "      <td>864352041913328</td>\n",
       "      <td>2022-09-01 00:00:00.000</td>\n",
       "      <td>13.787181</td>\n",
       "      <td>100.678031</td>\n",
       "      <td>0.00</td>\n",
       "      <td>730057.0</td>\n",
       "      <td>1</td>\n",
       "    </tr>\n",
       "    <tr>\n",
       "      <th>2</th>\n",
       "      <td>864352041913344</td>\n",
       "      <td>2022-09-01 00:00:00.000</td>\n",
       "      <td>13.787151</td>\n",
       "      <td>100.678166</td>\n",
       "      <td>0.00</td>\n",
       "      <td>755866.0</td>\n",
       "      <td>0</td>\n",
       "    </tr>\n",
       "    <tr>\n",
       "      <th>3</th>\n",
       "      <td>864352043379783</td>\n",
       "      <td>2022-09-01 00:00:01.000</td>\n",
       "      <td>13.787218</td>\n",
       "      <td>100.677975</td>\n",
       "      <td>0.00</td>\n",
       "      <td>752541.0</td>\n",
       "      <td>1</td>\n",
       "    </tr>\n",
       "    <tr>\n",
       "      <th>4</th>\n",
       "      <td>864606045195285</td>\n",
       "      <td>2022-09-01 00:00:02.000</td>\n",
       "      <td>13.787255</td>\n",
       "      <td>100.678026</td>\n",
       "      <td>0.00</td>\n",
       "      <td>565847.0</td>\n",
       "      <td>1</td>\n",
       "    </tr>\n",
       "  </tbody>\n",
       "</table>\n",
       "</div>"
      ],
      "text/plain": [
       "            device             datetime_gps   latitude   longitude speed  \\\n",
       "0  864352043372192  2022-09-01 00:00:00.000  13.787150  100.678210  0.00   \n",
       "1  864352041913328  2022-09-01 00:00:00.000  13.787181  100.678031  0.00   \n",
       "2  864352041913344  2022-09-01 00:00:00.000  13.787151  100.678166  0.00   \n",
       "3  864352043379783  2022-09-01 00:00:01.000  13.787218  100.677975  0.00   \n",
       "4  864606045195285  2022-09-01 00:00:02.000  13.787255  100.678026  0.00   \n",
       "\n",
       "    odometer engine_status  \n",
       "0  2107603.0             0  \n",
       "1   730057.0             1  \n",
       "2   755866.0             0  \n",
       "3   752541.0             1  \n",
       "4   565847.0             1  "
      ]
     },
     "execution_count": 35,
     "metadata": {},
     "output_type": "execute_result"
    }
   ],
   "source": [
    "gps.limit(5).toPandas()"
   ]
  },
  {
   "cell_type": "code",
   "execution_count": 36,
   "id": "c5f474f4",
   "metadata": {},
   "outputs": [],
   "source": [
    "gps_join = gps.join(sb,gps.device ==  sb['อีมี่ GPS'],\"inner\")"
   ]
  },
  {
   "cell_type": "code",
   "execution_count": 37,
   "id": "0930dc7a",
   "metadata": {},
   "outputs": [
    {
     "name": "stderr",
     "output_type": "stream",
     "text": [
      "                                                                                \r"
     ]
    },
    {
     "data": {
      "text/html": [
       "<div>\n",
       "<style scoped>\n",
       "    .dataframe tbody tr th:only-of-type {\n",
       "        vertical-align: middle;\n",
       "    }\n",
       "\n",
       "    .dataframe tbody tr th {\n",
       "        vertical-align: top;\n",
       "    }\n",
       "\n",
       "    .dataframe thead th {\n",
       "        text-align: right;\n",
       "    }\n",
       "</style>\n",
       "<table border=\"1\" class=\"dataframe\">\n",
       "  <thead>\n",
       "    <tr style=\"text-align: right;\">\n",
       "      <th></th>\n",
       "      <th>device</th>\n",
       "      <th>datetime_gps</th>\n",
       "      <th>latitude</th>\n",
       "      <th>longitude</th>\n",
       "      <th>speed</th>\n",
       "      <th>odometer</th>\n",
       "      <th>engine_status</th>\n",
       "      <th>ชื่อผู้ประกอบการ</th>\n",
       "      <th>ยี่ห้อรถ</th>\n",
       "      <th>ประเภทรถ</th>\n",
       "      <th>สายรถ</th>\n",
       "      <th>ทะเบียนรถ</th>\n",
       "      <th>จังหวัด</th>\n",
       "      <th>หมายเลขตัวถัง</th>\n",
       "      <th>วันที่ติดตั้ง</th>\n",
       "      <th>อีมี่ GPS</th>\n",
       "      <th>routes</th>\n",
       "    </tr>\n",
       "  </thead>\n",
       "  <tbody>\n",
       "  </tbody>\n",
       "</table>\n",
       "</div>"
      ],
      "text/plain": [
       "Empty DataFrame\n",
       "Columns: [device, datetime_gps, latitude, longitude, speed, odometer, engine_status, ชื่อผู้ประกอบการ, ยี่ห้อรถ, ประเภทรถ, สายรถ, ทะเบียนรถ, จังหวัด, หมายเลขตัวถัง, วันที่ติดตั้ง, อีมี่ GPS, routes]\n",
       "Index: []"
      ]
     },
     "execution_count": 37,
     "metadata": {},
     "output_type": "execute_result"
    }
   ],
   "source": [
    "gps_join.limit(10).toPandas()"
   ]
  },
  {
   "cell_type": "code",
   "execution_count": 38,
   "id": "015bbf39",
   "metadata": {},
   "outputs": [
    {
     "name": "stderr",
     "output_type": "stream",
     "text": [
      "                                                                                \r"
     ]
    },
    {
     "data": {
      "text/plain": [
       "0"
      ]
     },
     "execution_count": 38,
     "metadata": {},
     "output_type": "execute_result"
    }
   ],
   "source": [
    "gps_join.count()"
   ]
  }
 ],
 "metadata": {
  "kernelspec": {
   "display_name": "Python 3 (ipykernel)",
   "language": "python",
   "name": "python3"
  },
  "language_info": {
   "codemirror_mode": {
    "name": "ipython",
    "version": 3
   },
   "file_extension": ".py",
   "mimetype": "text/x-python",
   "name": "python",
   "nbconvert_exporter": "python",
   "pygments_lexer": "ipython3",
   "version": "3.9.7"
  }
 },
 "nbformat": 4,
 "nbformat_minor": 5
}
